{
 "cells": [
  {
   "cell_type": "code",
   "id": "d532b5cbd068e0fd",
   "metadata": {
    "collapsed": false,
    "ExecuteTime": {
     "end_time": "2024-04-08T17:07:28.321353Z",
     "start_time": "2024-04-08T17:07:22.526360Z"
    }
   },
   "source": [
    "import ray\n",
    "\n",
    "ray.shutdown()\n",
    "ray.init(ignore_reinit_error=True, num_gpus=1, _metrics_export_port=8080, include_dashboard=True,\n",
    "         configure_logging=False)"
   ],
   "outputs": [
    {
     "data": {
      "text/plain": [
       "RayContext(dashboard_url='127.0.0.1:8265', python_version='3.9.13', ray_version='2.9.1', ray_commit='cfbf98c315cfb2710c56039a3c96477d196de049', protocol_version=None)"
      ],
      "application/vnd.jupyter.widget-view+json": {
       "version_major": 2,
       "version_minor": 0,
       "model_id": "1859a09fd0b04abb853a8b701913d68a"
      },
      "text/html": [
       "<div class=\"lm-Widget p-Widget lm-Panel p-Panel jp-Cell-outputWrapper\">\n",
       "    <div style=\"margin-left: 50px;display: flex;flex-direction: row;align-items: center\">\n",
       "        <div class=\"jp-RenderedHTMLCommon\" style=\"display: flex; flex-direction: row;\">\n",
       "  <svg viewBox=\"0 0 567 224\" fill=\"none\" xmlns=\"http://www.w3.org/2000/svg\" style=\"height: 3em;\">\n",
       "    <g clip-path=\"url(#clip0_4338_178347)\">\n",
       "        <path d=\"M341.29 165.561H355.29L330.13 129.051C345.63 123.991 354.21 112.051 354.21 94.2307C354.21 71.3707 338.72 58.1807 311.88 58.1807H271V165.561H283.27V131.661H311.8C314.25 131.661 316.71 131.501 319.01 131.351L341.25 165.561H341.29ZM283.29 119.851V70.0007H311.82C331.3 70.0007 342.34 78.2907 342.34 94.5507C342.34 111.271 331.34 119.861 311.82 119.861L283.29 119.851ZM451.4 138.411L463.4 165.561H476.74L428.74 58.1807H416L367.83 165.561H380.83L392.83 138.411H451.4ZM446.19 126.601H398L422 72.1407L446.24 126.601H446.19ZM526.11 128.741L566.91 58.1807H554.35L519.99 114.181L485.17 58.1807H472.44L514.01 129.181V165.541H526.13V128.741H526.11Z\" fill=\"var(--jp-ui-font-color0)\"/>\n",
       "        <path d=\"M82.35 104.44C84.0187 97.8827 87.8248 92.0678 93.1671 87.9146C98.5094 83.7614 105.083 81.5067 111.85 81.5067C118.617 81.5067 125.191 83.7614 130.533 87.9146C135.875 92.0678 139.681 97.8827 141.35 104.44H163.75C164.476 101.562 165.622 98.8057 167.15 96.2605L127.45 56.5605C121.071 60.3522 113.526 61.6823 106.235 60.3005C98.9443 58.9187 92.4094 54.9203 87.8602 49.0574C83.3109 43.1946 81.0609 35.8714 81.5332 28.4656C82.0056 21.0599 85.1679 14.0819 90.4252 8.8446C95.6824 3.60726 102.672 0.471508 110.08 0.0272655C117.487 -0.416977 124.802 1.86091 130.647 6.4324C136.493 11.0039 140.467 17.5539 141.821 24.8501C143.175 32.1463 141.816 39.6859 138 46.0505L177.69 85.7505C182.31 82.9877 187.58 81.4995 192.962 81.4375C198.345 81.3755 203.648 82.742 208.33 85.3976C213.012 88.0532 216.907 91.9029 219.616 96.5544C222.326 101.206 223.753 106.492 223.753 111.875C223.753 117.258 222.326 122.545 219.616 127.197C216.907 131.848 213.012 135.698 208.33 138.353C203.648 141.009 198.345 142.375 192.962 142.313C187.58 142.251 182.31 140.763 177.69 138L138 177.7C141.808 184.071 143.155 191.614 141.79 198.91C140.424 206.205 136.44 212.75 130.585 217.313C124.731 221.875 117.412 224.141 110.004 223.683C102.596 223.226 95.6103 220.077 90.3621 214.828C85.1139 209.58 81.9647 202.595 81.5072 195.187C81.0497 187.779 83.3154 180.459 87.878 174.605C92.4405 168.751 98.9853 164.766 106.281 163.401C113.576 162.035 121.119 163.383 127.49 167.19L167.19 127.49C165.664 124.941 164.518 122.182 163.79 119.3H141.39C139.721 125.858 135.915 131.673 130.573 135.826C125.231 139.98 118.657 142.234 111.89 142.234C105.123 142.234 98.5494 139.98 93.2071 135.826C87.8648 131.673 84.0587 125.858 82.39 119.3H60C58.1878 126.495 53.8086 132.78 47.6863 136.971C41.5641 141.163 34.1211 142.972 26.7579 142.059C19.3947 141.146 12.6191 137.574 7.70605 132.014C2.79302 126.454 0.0813599 119.29 0.0813599 111.87C0.0813599 104.451 2.79302 97.2871 7.70605 91.7272C12.6191 86.1673 19.3947 82.5947 26.7579 81.6817C34.1211 80.7686 41.5641 82.5781 47.6863 86.7696C53.8086 90.9611 58.1878 97.2456 60 104.44H82.35ZM100.86 204.32C103.407 206.868 106.759 208.453 110.345 208.806C113.93 209.159 117.527 208.258 120.522 206.256C123.517 204.254 125.725 201.276 126.771 197.828C127.816 194.38 127.633 190.677 126.253 187.349C124.874 184.021 122.383 181.274 119.205 179.577C116.027 177.88 112.359 177.337 108.826 178.042C105.293 178.746 102.113 180.654 99.8291 183.44C97.5451 186.226 96.2979 189.718 96.3 193.32C96.2985 195.364 96.7006 197.388 97.4831 199.275C98.2656 201.163 99.4132 202.877 100.86 204.32ZM204.32 122.88C206.868 120.333 208.453 116.981 208.806 113.396C209.159 109.811 208.258 106.214 206.256 103.219C204.254 100.223 201.275 98.0151 197.827 96.97C194.38 95.9249 190.676 96.1077 187.348 97.4873C184.02 98.8669 181.274 101.358 179.577 104.536C177.879 107.714 177.337 111.382 178.041 114.915C178.746 118.448 180.653 121.627 183.439 123.911C186.226 126.195 189.717 127.443 193.32 127.44C195.364 127.443 197.388 127.042 199.275 126.259C201.163 125.476 202.878 124.328 204.32 122.88ZM122.88 19.4205C120.333 16.8729 116.981 15.2876 113.395 14.9347C109.81 14.5817 106.213 15.483 103.218 17.4849C100.223 19.4868 98.0146 22.4654 96.9696 25.9131C95.9245 29.3608 96.1073 33.0642 97.4869 36.3922C98.8665 39.7202 101.358 42.4668 104.535 44.1639C107.713 45.861 111.381 46.4036 114.914 45.6992C118.447 44.9949 121.627 43.0871 123.911 40.301C126.195 37.515 127.442 34.0231 127.44 30.4205C127.44 28.3772 127.038 26.3539 126.255 24.4664C125.473 22.5788 124.326 20.8642 122.88 19.4205ZM19.42 100.86C16.8725 103.408 15.2872 106.76 14.9342 110.345C14.5813 113.93 15.4826 117.527 17.4844 120.522C19.4863 123.518 22.4649 125.726 25.9127 126.771C29.3604 127.816 33.0638 127.633 36.3918 126.254C39.7198 124.874 42.4664 122.383 44.1635 119.205C45.8606 116.027 46.4032 112.359 45.6988 108.826C44.9944 105.293 43.0866 102.114 40.3006 99.8296C37.5145 97.5455 34.0227 96.2983 30.42 96.3005C26.2938 96.3018 22.337 97.9421 19.42 100.86ZM100.86 100.86C98.3125 103.408 96.7272 106.76 96.3742 110.345C96.0213 113.93 96.9226 117.527 98.9244 120.522C100.926 123.518 103.905 125.726 107.353 126.771C110.8 127.816 114.504 127.633 117.832 126.254C121.16 124.874 123.906 122.383 125.604 119.205C127.301 116.027 127.843 112.359 127.139 108.826C126.434 105.293 124.527 102.114 121.741 99.8296C118.955 97.5455 115.463 96.2983 111.86 96.3005C109.817 96.299 107.793 96.701 105.905 97.4835C104.018 98.2661 102.303 99.4136 100.86 100.86Z\" fill=\"#00AEEF\"/>\n",
       "    </g>\n",
       "    <defs>\n",
       "        <clipPath id=\"clip0_4338_178347\">\n",
       "            <rect width=\"566.93\" height=\"223.75\" fill=\"white\"/>\n",
       "        </clipPath>\n",
       "    </defs>\n",
       "  </svg>\n",
       "</div>\n",
       "\n",
       "        <table class=\"jp-RenderedHTMLCommon\" style=\"border-collapse: collapse;color: var(--jp-ui-font-color1);font-size: var(--jp-ui-font-size1);\">\n",
       "    <tr>\n",
       "        <td style=\"text-align: left\"><b>Python version:</b></td>\n",
       "        <td style=\"text-align: left\"><b>3.9.13</b></td>\n",
       "    </tr>\n",
       "    <tr>\n",
       "        <td style=\"text-align: left\"><b>Ray version:</b></td>\n",
       "        <td style=\"text-align: left\"><b>2.9.1</b></td>\n",
       "    </tr>\n",
       "    <tr>\n",
       "    <td style=\"text-align: left\"><b>Dashboard:</b></td>\n",
       "    <td style=\"text-align: left\"><b><a href=\"http://127.0.0.1:8265\" target=\"_blank\">http://127.0.0.1:8265</a></b></td>\n",
       "</tr>\n",
       "\n",
       "</table>\n",
       "\n",
       "    </div>\n",
       "</div>\n"
      ]
     },
     "execution_count": 2,
     "metadata": {},
     "output_type": "execute_result"
    }
   ],
   "execution_count": 2
  },
  {
   "cell_type": "code",
   "id": "initial_id",
   "metadata": {
    "ExecuteTime": {
     "end_time": "2024-04-08T17:07:41.204632Z",
     "start_time": "2024-04-08T17:07:41.194766Z"
    }
   },
   "source": [
    "from minigrid.wrappers import FlatObsWrapper\n",
    "\n",
    "\n",
    "class CustomFlatObsWrapper(FlatObsWrapper):\n",
    "    def __init__(self, env):\n",
    "        super().__init__(env)"
   ],
   "outputs": [],
   "execution_count": 4
  },
  {
   "cell_type": "code",
   "id": "c39813b6e1e21314",
   "metadata": {
    "collapsed": false,
    "ExecuteTime": {
     "end_time": "2024-04-08T17:07:42.419429Z",
     "start_time": "2024-04-08T17:07:42.390546Z"
    }
   },
   "source": [
    "from gymnasium.envs.registration import register\n",
    "\n",
    "try:\n",
    "    import gymnasium as gym\n",
    "\n",
    "    gymnasium = True\n",
    "except Exception:\n",
    "    import gym\n",
    "\n",
    "    gymnasium = False\n",
    "\n",
    "ENV_ID = \"MiniGrid-CustomMultiRoom-N6-v0\"\n",
    "\n",
    "# Register the custom environment\n",
    "register(\n",
    "    id=ENV_ID,\n",
    "    entry_point='custom_env:CustomMultiRoomEnv',\n",
    "    max_episode_steps=1000,\n",
    ")\n"
   ],
   "outputs": [],
   "execution_count": 5
  },
  {
   "cell_type": "code",
   "source": [
    "from custom_env import CustomMultiRoomEnv\n",
    "\n",
    "try:\n",
    "    import gymnasium as gym\n",
    "\n",
    "    gymnasium = True\n",
    "except Exception:\n",
    "    import gym\n",
    "\n",
    "    gymnasium = False\n",
    "from ray.tune import register_env\n",
    "\n",
    "\n",
    "def env_creator(env_config=None):\n",
    "    # if env_config is None:\n",
    "    #     env_config = {\n",
    "    #         'agent_start_pos': (1, 1),\n",
    "    #         'agent_start_dir': 0,\n",
    "    #         'goal_pos': (7, 7),\n",
    "    #         'minNumRooms': 2,\n",
    "    #         'maxNumRooms': 5\n",
    "    #     }\n",
    "    env = CustomMultiRoomEnv(agent_start_pos=(1, 1),\n",
    "                             agent_start_dir=0,\n",
    "                             goal_pos=(7, 7),\n",
    "                             minNumRooms=2,\n",
    "                             maxNumRooms=5, **env_config)\n",
    "    env.reset()\n",
    "    env = CustomFlatObsWrapper(env)\n",
    "    return env\n",
    "\n",
    "\n",
    "# Register the custom environment\n",
    "register_env(\"my_minigrid_env\", env_creator)\n"
   ],
   "metadata": {
    "collapsed": false,
    "ExecuteTime": {
     "end_time": "2024-04-08T17:07:43.142433Z",
     "start_time": "2024-04-08T17:07:43.112715Z"
    }
   },
   "id": "a02342de972a0d02",
   "outputs": [],
   "execution_count": 6
  },
  {
   "cell_type": "code",
   "source": [
    "from ray.rllib.algorithms.callbacks import DefaultCallbacks\n",
    "from ray.rllib import BaseEnv, Policy\n",
    "from typing import Dict, Union, Optional\n",
    "from ray.rllib import BaseEnv, Policy\n",
    "from ray.rllib.evaluation import Episode\n",
    "from ray.rllib.evaluation.episode_v2 import EpisodeV2\n",
    "from ray.rllib.utils.typing import PolicyID\n",
    "\n",
    "\n",
    "class AccuracyCallback(DefaultCallbacks):\n",
    "    def on_episode_end(\n",
    "            self,\n",
    "            *,\n",
    "            worker: \"RolloutWorker\",\n",
    "            base_env: BaseEnv,\n",
    "            policies: Dict[PolicyID, Policy],\n",
    "            episode: Union[Episode, EpisodeV2, Exception],\n",
    "            env_index: Optional[int] = None,\n",
    "            **kwargs,\n",
    "    ) -> None:\n",
    "        super(DefaultCallbacks, self).on_episode_end(worker=worker, base_env=base_env,\n",
    "                                                     policies=policies, episode=episode,\n",
    "                                                     env_index=env_index, **kwargs)\n",
    "\n",
    "        episode.custom_metrics[\"mean_accuracy\"] = 0"
   ],
   "metadata": {
    "collapsed": false,
    "ExecuteTime": {
     "end_time": "2024-04-08T17:07:44.109813Z",
     "start_time": "2024-04-08T17:07:44.088269Z"
    }
   },
   "id": "b73a400fce6e16a5",
   "outputs": [],
   "execution_count": 7
  },
  {
   "cell_type": "code",
   "id": "c852061bac484afd",
   "metadata": {
    "collapsed": false,
    "ExecuteTime": {
     "end_time": "2024-04-08T17:07:44.828709Z",
     "start_time": "2024-04-08T17:07:44.811515Z"
    }
   },
   "source": [
    "from ray.rllib.algorithms.dqn import DQNConfig\n",
    "from ray.air import RunConfig\n",
    "from ray import train\n",
    "\n",
    "tune_config = DQNConfig().environment(\"my_minigrid_env\").rollouts(\n",
    "    num_envs_per_worker=20,\n",
    "    observation_filter=\"MeanStdFilter\",\n",
    "    num_rollout_workers=0,\n",
    ").exploration(\n",
    "    explore=True,\n",
    "    exploration_config={\n",
    "        \"type\": \"EpsilonGreedy\",\n",
    "        \"initial_epsilon\": 1.0,\n",
    "        \"final_epsilon\": 0.1,\n",
    "        \"epsilon_timesteps\": 10000,\n",
    "    }\n",
    ").training()\n",
    "\n",
    "tune_config_dict = tune_config.to_dict()\n",
    "# Example stop criteria for MiniGrid-MultiRoom-N6-v0\n",
    "stop = {\n",
    "    \"training_iteration\": 10000,  # Increase the number of training iterations to give the agent more time to learn\n",
    "    \"timesteps_total\": 5000000,  # Increase the total number of steps to allow the agent to gather more experience\n",
    "    \"episode_reward_mean\": 0.95,\n",
    "    # Uncomment and set a target average reward per episode if you have a specific performance level in mind\n",
    "    # \"time_total_s\": 36000,  # Uncomment and set a maximum training time in seconds if you have a time constraint\n",
    "}\n",
    "# Setup your RunConfig\n",
    "run_config = RunConfig(\n",
    "    name=\"new_experiment\",\n",
    "    stop=stop,\n",
    "    storage_path=\"C:\\\\Users\\\\BerkayEren\\\\PycharmProjects\\\\rl-learning\\\\ray_results\",\n",
    "    checkpoint_config=train.CheckpointConfig(\n",
    "        checkpoint_score_attribute=\"mean_accuracy\",\n",
    "        num_to_keep=5,\n",
    "    ),\n",
    ")"
   ],
   "outputs": [],
   "execution_count": 8
  },
  {
   "cell_type": "code",
   "source": [
    "from ray import tune\n",
    "from ray.tune.schedulers import ASHAScheduler\n",
    "\n",
    "from ray.tune import register_env\n",
    "\n",
    "# Register the custom environment\n",
    "register_env(\"my_minigrid_env\", env_creator)\n",
    "\n",
    "tuner = tune.Tuner(\n",
    "    \"DQN\",\n",
    "    param_space={\n",
    "        \"lr\": tune.loguniform(0.001, 0.1),\n",
    "        \"momentum\": tune.grid_search([0.8, 0.9, 0.99]),\n",
    "        \"should_checkpoint\": True,\n",
    "        \"callbacks\": AccuracyCallback,\n",
    "        **tune_config\n",
    "    },\n",
    "    run_config=train.RunConfig(\n",
    "        name=\"new_experiment\",\n",
    "        stop=stop,\n",
    "        checkpoint_config=train.CheckpointConfig(\n",
    "            num_to_keep=5,\n",
    "            checkpoint_at_end=True,\n",
    "            checkpoint_frequency=50\n",
    "        ),\n",
    "        storage_path=\"C:\\\\Users\\\\BerkayEren\\\\PycharmProjects\\\\rl-learning\\\\ray_results\",\n",
    "    ),\n",
    "    tune_config=tune.TuneConfig(mode=\"max\", metric=\"episode_reward_mean\", num_samples=2, scheduler=ASHAScheduler(), ),\n",
    "\n",
    ")\n",
    "# Start the tuning process\n",
    "result = tuner.fit()\n"
   ],
   "metadata": {
    "collapsed": false
   },
   "id": "c1973268c6e5e126",
   "execution_count": 9,
   "outputs": [
    {
     "data": {
      "text/plain": [
       "<IPython.core.display.HTML object>"
      ],
      "text/html": [
       "<div class=\"tuneStatus\">\n",
       "  <div style=\"display: flex;flex-direction: row\">\n",
       "    <div style=\"display: flex;flex-direction: column;\">\n",
       "      <h3>Tune Status</h3>\n",
       "      <table>\n",
       "<tbody>\n",
       "<tr><td>Current time:</td><td>2024-04-08 20:08:12</td></tr>\n",
       "<tr><td>Running for: </td><td>00:00:26.13        </td></tr>\n",
       "<tr><td>Memory:      </td><td>13.1/15.8 GiB      </td></tr>\n",
       "</tbody>\n",
       "</table>\n",
       "    </div>\n",
       "    <div class=\"vDivider\"></div>\n",
       "    <div class=\"systemInfo\">\n",
       "      <h3>System Info</h3>\n",
       "      Using AsyncHyperBand: num_stopped=0<br>Bracket: Iter 64.000: None | Iter 16.000: None | Iter 4.000: None | Iter 1.000: None<br>Logical resource usage: 6.0/8 CPUs, 0/1 GPUs\n",
       "    </div>\n",
       "    \n",
       "  </div>\n",
       "  <div class=\"hDivider\"></div>\n",
       "  <div class=\"trialStatus\">\n",
       "    <h3>Trial Status</h3>\n",
       "    <table>\n",
       "<thead>\n",
       "<tr><th>Trial name                     </th><th>status  </th><th>loc            </th><th style=\"text-align: right;\">  momentum</th></tr>\n",
       "</thead>\n",
       "<tbody>\n",
       "<tr><td>DQN_my_minigrid_env_852db_00000</td><td>RUNNING </td><td>127.0.0.1:19436</td><td style=\"text-align: right;\">      0.8 </td></tr>\n",
       "<tr><td>DQN_my_minigrid_env_852db_00001</td><td>RUNNING </td><td>127.0.0.1:20500</td><td style=\"text-align: right;\">      0.9 </td></tr>\n",
       "<tr><td>DQN_my_minigrid_env_852db_00002</td><td>RUNNING </td><td>127.0.0.1:20604</td><td style=\"text-align: right;\">      0.99</td></tr>\n",
       "<tr><td>DQN_my_minigrid_env_852db_00003</td><td>RUNNING </td><td>127.0.0.1:15192</td><td style=\"text-align: right;\">      0.8 </td></tr>\n",
       "<tr><td>DQN_my_minigrid_env_852db_00004</td><td>RUNNING </td><td>127.0.0.1:11228</td><td style=\"text-align: right;\">      0.9 </td></tr>\n",
       "<tr><td>DQN_my_minigrid_env_852db_00005</td><td>RUNNING </td><td>127.0.0.1:7836 </td><td style=\"text-align: right;\">      0.99</td></tr>\n",
       "</tbody>\n",
       "</table>\n",
       "  </div>\n",
       "</div>\n",
       "<style>\n",
       ".tuneStatus {\n",
       "  color: var(--jp-ui-font-color1);\n",
       "}\n",
       ".tuneStatus .systemInfo {\n",
       "  display: flex;\n",
       "  flex-direction: column;\n",
       "}\n",
       ".tuneStatus td {\n",
       "  white-space: nowrap;\n",
       "}\n",
       ".tuneStatus .trialStatus {\n",
       "  display: flex;\n",
       "  flex-direction: column;\n",
       "}\n",
       ".tuneStatus h3 {\n",
       "  font-weight: bold;\n",
       "}\n",
       ".tuneStatus .hDivider {\n",
       "  border-bottom-width: var(--jp-border-width);\n",
       "  border-bottom-color: var(--jp-border-color0);\n",
       "  border-bottom-style: solid;\n",
       "}\n",
       ".tuneStatus .vDivider {\n",
       "  border-left-width: var(--jp-border-width);\n",
       "  border-left-color: var(--jp-border-color0);\n",
       "  border-left-style: solid;\n",
       "  margin: 0.5em 1em 0.5em 1em;\n",
       "}\n",
       "</style>\n"
      ]
     },
     "metadata": {},
     "output_type": "display_data"
    },
    {
     "data": {
      "text/plain": [
       "<IPython.core.display.HTML object>"
      ],
      "text/html": [
       "<div class=\"tuneStatus\">\n",
       "  <div style=\"display: flex;flex-direction: row\">\n",
       "    <div style=\"display: flex;flex-direction: column;\">\n",
       "      <h3>Tune Status</h3>\n",
       "      <table>\n",
       "<tbody>\n",
       "<tr><td>Current time:</td><td>2024-04-08 20:08:38</td></tr>\n",
       "<tr><td>Running for: </td><td>00:00:52.25        </td></tr>\n",
       "<tr><td>Memory:      </td><td>11.8/15.8 GiB      </td></tr>\n",
       "</tbody>\n",
       "</table>\n",
       "    </div>\n",
       "    <div class=\"vDivider\"></div>\n",
       "    <div class=\"systemInfo\">\n",
       "      <h3>System Info</h3>\n",
       "      Using AsyncHyperBand: num_stopped=0<br>Bracket: Iter 64.000: None | Iter 16.000: None | Iter 4.000: None | Iter 1.000: nan<br>Logical resource usage: 2.0/8 CPUs, 0/1 GPUs\n",
       "    </div>\n",
       "    \n",
       "  </div>\n",
       "  <div class=\"hDivider\"></div>\n",
       "  <div class=\"trialStatus\">\n",
       "    <h3>Trial Status</h3>\n",
       "    <table>\n",
       "<thead>\n",
       "<tr><th>Trial name                     </th><th>status    </th><th>loc            </th><th style=\"text-align: right;\">  momentum</th><th style=\"text-align: right;\">  iter</th><th style=\"text-align: right;\">  total time (s)</th><th style=\"text-align: right;\">  ts</th><th style=\"text-align: right;\">  reward</th><th style=\"text-align: right;\">  episode_reward_max</th><th style=\"text-align: right;\">  episode_reward_min</th><th style=\"text-align: right;\">  episode_len_mean</th></tr>\n",
       "</thead>\n",
       "<tbody>\n",
       "<tr><td>DQN_my_minigrid_env_852db_00000</td><td>TERMINATED</td><td>127.0.0.1:19436</td><td style=\"text-align: right;\">      0.8 </td><td style=\"text-align: right;\">     2</td><td style=\"text-align: right;\">         12.633 </td><td style=\"text-align: right;\">2000</td><td style=\"text-align: right;\"> 6.54375</td><td style=\"text-align: right;\">              12.478</td><td style=\"text-align: right;\">                   2</td><td style=\"text-align: right;\">             96.25</td></tr>\n",
       "<tr><td>DQN_my_minigrid_env_852db_00001</td><td>TERMINATED</td><td>127.0.0.1:20500</td><td style=\"text-align: right;\">      0.9 </td><td style=\"text-align: right;\">     2</td><td style=\"text-align: right;\">         12.6396</td><td style=\"text-align: right;\">2000</td><td style=\"text-align: right;\"> 5.86405</td><td style=\"text-align: right;\">              12.145</td><td style=\"text-align: right;\">                   1</td><td style=\"text-align: right;\">             99.55</td></tr>\n",
       "<tr><td>DQN_my_minigrid_env_852db_00002</td><td>TERMINATED</td><td>127.0.0.1:20604</td><td style=\"text-align: right;\">      0.99</td><td style=\"text-align: right;\">     2</td><td style=\"text-align: right;\">         12.655 </td><td style=\"text-align: right;\">2000</td><td style=\"text-align: right;\"> 5.1    </td><td style=\"text-align: right;\">              11    </td><td style=\"text-align: right;\">                   1</td><td style=\"text-align: right;\">            100   </td></tr>\n",
       "<tr><td>DQN_my_minigrid_env_852db_00003</td><td>TERMINATED</td><td>127.0.0.1:15192</td><td style=\"text-align: right;\">      0.8 </td><td style=\"text-align: right;\">     2</td><td style=\"text-align: right;\">         12.7096</td><td style=\"text-align: right;\">2000</td><td style=\"text-align: right;\"> 5.45   </td><td style=\"text-align: right;\">               9    </td><td style=\"text-align: right;\">                   2</td><td style=\"text-align: right;\">            100   </td></tr>\n",
       "<tr><td>DQN_my_minigrid_env_852db_00004</td><td>TERMINATED</td><td>127.0.0.1:11228</td><td style=\"text-align: right;\">      0.9 </td><td style=\"text-align: right;\">     2</td><td style=\"text-align: right;\">         12.8035</td><td style=\"text-align: right;\">2000</td><td style=\"text-align: right;\"> 6      </td><td style=\"text-align: right;\">              11    </td><td style=\"text-align: right;\">                   1</td><td style=\"text-align: right;\">            100   </td></tr>\n",
       "<tr><td>DQN_my_minigrid_env_852db_00005</td><td>TERMINATED</td><td>127.0.0.1:7836 </td><td style=\"text-align: right;\">      0.99</td><td style=\"text-align: right;\">     2</td><td style=\"text-align: right;\">         12.3409</td><td style=\"text-align: right;\">2000</td><td style=\"text-align: right;\"> 5.45   </td><td style=\"text-align: right;\">              10    </td><td style=\"text-align: right;\">                   1</td><td style=\"text-align: right;\">            100   </td></tr>\n",
       "</tbody>\n",
       "</table>\n",
       "  </div>\n",
       "</div>\n",
       "<style>\n",
       ".tuneStatus {\n",
       "  color: var(--jp-ui-font-color1);\n",
       "}\n",
       ".tuneStatus .systemInfo {\n",
       "  display: flex;\n",
       "  flex-direction: column;\n",
       "}\n",
       ".tuneStatus td {\n",
       "  white-space: nowrap;\n",
       "}\n",
       ".tuneStatus .trialStatus {\n",
       "  display: flex;\n",
       "  flex-direction: column;\n",
       "}\n",
       ".tuneStatus h3 {\n",
       "  font-weight: bold;\n",
       "}\n",
       ".tuneStatus .hDivider {\n",
       "  border-bottom-width: var(--jp-border-width);\n",
       "  border-bottom-color: var(--jp-border-color0);\n",
       "  border-bottom-style: solid;\n",
       "}\n",
       ".tuneStatus .vDivider {\n",
       "  border-left-width: var(--jp-border-width);\n",
       "  border-left-color: var(--jp-border-color0);\n",
       "  border-left-style: solid;\n",
       "  margin: 0.5em 1em 0.5em 1em;\n",
       "}\n",
       "</style>\n"
      ]
     },
     "metadata": {},
     "output_type": "display_data"
    }
   ]
  },
  {
   "cell_type": "code",
   "id": "9b638aeca2f1999a",
   "metadata": {
    "collapsed": false,
    "ExecuteTime": {
     "end_time": "2024-04-08T17:10:34.151851Z",
     "start_time": "2024-04-08T17:09:18.121414Z"
    }
   },
   "source": [
    "import numpy as np\n",
    "from ray.rllib.algorithms import DQN\n",
    "\n",
    "best_result = result.get_best_result()\n",
    "best_checkpoint = best_result.get_best_checkpoint('episode_reward_mean', 'max')\n",
    "\n",
    "trainer = DQN(config=tune_config_dict)\n",
    "# You can now restore your trainer from this checkpoint as shown previously\n",
    "trainer.restore(best_checkpoint)\n",
    "\n",
    "# Initialize a list to store the observations from each trial\n",
    "all_observations = []\n",
    "\n",
    "# Run the environment loop 4 times\n",
    "for trial in range(4):\n",
    "    env = env_creator({\"render_mode\": \"human\"})\n",
    "    observation, info = env.reset()\n",
    "    done = False\n",
    "    action = None\n",
    "    reward = 0\n",
    "\n",
    "    visited_states = {}\n",
    "    while not done:\n",
    "        # Compute the action using the trained policy\n",
    "        action = trainer.compute_single_action(observation=observation, prev_action=action, prev_reward=reward)\n",
    "\n",
    "        # Take the action in the environment\n",
    "        observation, reward, done, info, _ = env.step(action)\n",
    "        \n",
    "        visited_states.setdefault(env.agent_pos, 0)\n",
    "        visited_states[env.agent_pos] += 1\n",
    "\n",
    "        # Render the environment\n",
    "        env.render()\n",
    "\n",
    "    all_observations.append(visited_states)\n"
   ],
   "outputs": [
    {
     "name": "stderr",
     "output_type": "stream",
     "text": [
      "C:\\Users\\BerkayEren\\PycharmProjects\\rl-learning\\worker_env\\lib\\site-packages\\ray\\rllib\\algorithms\\algorithm.py:483: RayDeprecationWarning: This API is deprecated and may be removed in future Ray releases. You could suppress this warning by setting env variable PYTHONWARNINGS=\"ignore::DeprecationWarning\"\n",
      "`UnifiedLogger` will be removed in Ray 2.7.\n",
      "  return UnifiedLogger(config, logdir, loggers=None)\n",
      "C:\\Users\\BerkayEren\\PycharmProjects\\rl-learning\\worker_env\\lib\\site-packages\\ray\\tune\\logger\\unified.py:53: RayDeprecationWarning: This API is deprecated and may be removed in future Ray releases. You could suppress this warning by setting env variable PYTHONWARNINGS=\"ignore::DeprecationWarning\"\n",
      "The `JsonLogger interface is deprecated in favor of the `ray.tune.json.JsonLoggerCallback` interface and will be removed in Ray 2.7.\n",
      "  self._loggers.append(cls(self.config, self.logdir, self.trial))\n",
      "C:\\Users\\BerkayEren\\PycharmProjects\\rl-learning\\worker_env\\lib\\site-packages\\ray\\tune\\logger\\unified.py:53: RayDeprecationWarning: This API is deprecated and may be removed in future Ray releases. You could suppress this warning by setting env variable PYTHONWARNINGS=\"ignore::DeprecationWarning\"\n",
      "The `CSVLogger interface is deprecated in favor of the `ray.tune.csv.CSVLoggerCallback` interface and will be removed in Ray 2.7.\n",
      "  self._loggers.append(cls(self.config, self.logdir, self.trial))\n",
      "C:\\Users\\BerkayEren\\PycharmProjects\\rl-learning\\worker_env\\lib\\site-packages\\ray\\tune\\logger\\unified.py:53: RayDeprecationWarning: This API is deprecated and may be removed in future Ray releases. You could suppress this warning by setting env variable PYTHONWARNINGS=\"ignore::DeprecationWarning\"\n",
      "The `TBXLogger interface is deprecated in favor of the `ray.tune.tensorboardx.TBXLoggerCallback` interface and will be removed in Ray 2.7.\n",
      "  self._loggers.append(cls(self.config, self.logdir, self.trial))\n"
     ]
    }
   ],
   "execution_count": 11
  },
  {
   "metadata": {
    "ExecuteTime": {
     "end_time": "2024-04-08T17:19:24.210436Z",
     "start_time": "2024-04-08T17:19:23.913693Z"
    }
   },
   "cell_type": "code",
   "source": [
    "import matplotlib.pyplot as plt\n",
    "# Generate and save a heatmap for each trial\n",
    "for i, trial_observations in enumerate(all_observations):\n",
    "    # Convert the list of observations to a numpy array\n",
    "    # trial_observations = np.array(trial_observations)\n",
    "    visited_states = np.nan_to_num(trial_observations)\n",
    "\n",
    "    # Generate the heatmap\n",
    "    plt.imshow(visited_states, cmap='hot', interpolation='nearest')\n",
    "    plt.colorbar()\n",
    "    plt.title(f'Heatmap of Visited States in Trial {i + 1}')\n",
    "\n",
    "    # Save the heatmap to a file\n",
    "    plt.savefig(f'heatmap_trial_{i + 1}.png')\n",
    "\n",
    "    # Clear the current figure so the next heatmap doesn't overlap with this one\n",
    "    plt.clf()"
   ],
   "id": "8573a6264f19de01",
   "outputs": [
    {
     "ename": "TypeError",
     "evalue": "Image data of dtype object cannot be converted to float",
     "output_type": "error",
     "traceback": [
      "\u001B[1;31m---------------------------------------------------------------------------\u001B[0m",
      "\u001B[1;31mTypeError\u001B[0m                                 Traceback (most recent call last)",
      "Cell \u001B[1;32mIn[17], line 9\u001B[0m\n\u001B[0;32m      6\u001B[0m visited_states \u001B[38;5;241m=\u001B[39m np\u001B[38;5;241m.\u001B[39mnan_to_num(trial_observations)\n\u001B[0;32m      8\u001B[0m \u001B[38;5;66;03m# Generate the heatmap\u001B[39;00m\n\u001B[1;32m----> 9\u001B[0m \u001B[43mplt\u001B[49m\u001B[38;5;241;43m.\u001B[39;49m\u001B[43mimshow\u001B[49m\u001B[43m(\u001B[49m\u001B[43mvisited_states\u001B[49m\u001B[43m,\u001B[49m\u001B[43m \u001B[49m\u001B[43mcmap\u001B[49m\u001B[38;5;241;43m=\u001B[39;49m\u001B[38;5;124;43m'\u001B[39;49m\u001B[38;5;124;43mhot\u001B[39;49m\u001B[38;5;124;43m'\u001B[39;49m\u001B[43m,\u001B[49m\u001B[43m \u001B[49m\u001B[43minterpolation\u001B[49m\u001B[38;5;241;43m=\u001B[39;49m\u001B[38;5;124;43m'\u001B[39;49m\u001B[38;5;124;43mnearest\u001B[39;49m\u001B[38;5;124;43m'\u001B[39;49m\u001B[43m)\u001B[49m\n\u001B[0;32m     10\u001B[0m plt\u001B[38;5;241m.\u001B[39mcolorbar()\n\u001B[0;32m     11\u001B[0m plt\u001B[38;5;241m.\u001B[39mtitle(\u001B[38;5;124mf\u001B[39m\u001B[38;5;124m'\u001B[39m\u001B[38;5;124mHeatmap of Visited States in Trial \u001B[39m\u001B[38;5;132;01m{\u001B[39;00mi\u001B[38;5;250m \u001B[39m\u001B[38;5;241m+\u001B[39m\u001B[38;5;250m \u001B[39m\u001B[38;5;241m1\u001B[39m\u001B[38;5;132;01m}\u001B[39;00m\u001B[38;5;124m'\u001B[39m)\n",
      "File \u001B[1;32m~\\PycharmProjects\\rl-learning\\worker_env\\lib\\site-packages\\matplotlib\\pyplot.py:3358\u001B[0m, in \u001B[0;36mimshow\u001B[1;34m(X, cmap, norm, aspect, interpolation, alpha, vmin, vmax, origin, extent, interpolation_stage, filternorm, filterrad, resample, url, data, **kwargs)\u001B[0m\n\u001B[0;32m   3337\u001B[0m \u001B[38;5;129m@_copy_docstring_and_deprecators\u001B[39m(Axes\u001B[38;5;241m.\u001B[39mimshow)\n\u001B[0;32m   3338\u001B[0m \u001B[38;5;28;01mdef\u001B[39;00m \u001B[38;5;21mimshow\u001B[39m(\n\u001B[0;32m   3339\u001B[0m     X: ArrayLike \u001B[38;5;241m|\u001B[39m PIL\u001B[38;5;241m.\u001B[39mImage\u001B[38;5;241m.\u001B[39mImage,\n\u001B[1;32m   (...)\u001B[0m\n\u001B[0;32m   3356\u001B[0m     \u001B[38;5;241m*\u001B[39m\u001B[38;5;241m*\u001B[39mkwargs,\n\u001B[0;32m   3357\u001B[0m ) \u001B[38;5;241m-\u001B[39m\u001B[38;5;241m>\u001B[39m AxesImage:\n\u001B[1;32m-> 3358\u001B[0m     __ret \u001B[38;5;241m=\u001B[39m gca()\u001B[38;5;241m.\u001B[39mimshow(\n\u001B[0;32m   3359\u001B[0m         X,\n\u001B[0;32m   3360\u001B[0m         cmap\u001B[38;5;241m=\u001B[39mcmap,\n\u001B[0;32m   3361\u001B[0m         norm\u001B[38;5;241m=\u001B[39mnorm,\n\u001B[0;32m   3362\u001B[0m         aspect\u001B[38;5;241m=\u001B[39maspect,\n\u001B[0;32m   3363\u001B[0m         interpolation\u001B[38;5;241m=\u001B[39minterpolation,\n\u001B[0;32m   3364\u001B[0m         alpha\u001B[38;5;241m=\u001B[39malpha,\n\u001B[0;32m   3365\u001B[0m         vmin\u001B[38;5;241m=\u001B[39mvmin,\n\u001B[0;32m   3366\u001B[0m         vmax\u001B[38;5;241m=\u001B[39mvmax,\n\u001B[0;32m   3367\u001B[0m         origin\u001B[38;5;241m=\u001B[39morigin,\n\u001B[0;32m   3368\u001B[0m         extent\u001B[38;5;241m=\u001B[39mextent,\n\u001B[0;32m   3369\u001B[0m         interpolation_stage\u001B[38;5;241m=\u001B[39minterpolation_stage,\n\u001B[0;32m   3370\u001B[0m         filternorm\u001B[38;5;241m=\u001B[39mfilternorm,\n\u001B[0;32m   3371\u001B[0m         filterrad\u001B[38;5;241m=\u001B[39mfilterrad,\n\u001B[0;32m   3372\u001B[0m         resample\u001B[38;5;241m=\u001B[39mresample,\n\u001B[0;32m   3373\u001B[0m         url\u001B[38;5;241m=\u001B[39murl,\n\u001B[0;32m   3374\u001B[0m         \u001B[38;5;241m*\u001B[39m\u001B[38;5;241m*\u001B[39m({\u001B[38;5;124m\"\u001B[39m\u001B[38;5;124mdata\u001B[39m\u001B[38;5;124m\"\u001B[39m: data} \u001B[38;5;28;01mif\u001B[39;00m data \u001B[38;5;129;01mis\u001B[39;00m \u001B[38;5;129;01mnot\u001B[39;00m \u001B[38;5;28;01mNone\u001B[39;00m \u001B[38;5;28;01melse\u001B[39;00m {}),\n\u001B[0;32m   3375\u001B[0m         \u001B[38;5;241m*\u001B[39m\u001B[38;5;241m*\u001B[39mkwargs,\n\u001B[0;32m   3376\u001B[0m     )\n\u001B[0;32m   3377\u001B[0m     sci(__ret)\n\u001B[0;32m   3378\u001B[0m     \u001B[38;5;28;01mreturn\u001B[39;00m __ret\n",
      "File \u001B[1;32m~\\PycharmProjects\\rl-learning\\worker_env\\lib\\site-packages\\matplotlib\\__init__.py:1493\u001B[0m, in \u001B[0;36m_preprocess_data.<locals>.inner\u001B[1;34m(ax, data, *args, **kwargs)\u001B[0m\n\u001B[0;32m   1490\u001B[0m \u001B[38;5;129m@functools\u001B[39m\u001B[38;5;241m.\u001B[39mwraps(func)\n\u001B[0;32m   1491\u001B[0m \u001B[38;5;28;01mdef\u001B[39;00m \u001B[38;5;21minner\u001B[39m(ax, \u001B[38;5;241m*\u001B[39margs, data\u001B[38;5;241m=\u001B[39m\u001B[38;5;28;01mNone\u001B[39;00m, \u001B[38;5;241m*\u001B[39m\u001B[38;5;241m*\u001B[39mkwargs):\n\u001B[0;32m   1492\u001B[0m     \u001B[38;5;28;01mif\u001B[39;00m data \u001B[38;5;129;01mis\u001B[39;00m \u001B[38;5;28;01mNone\u001B[39;00m:\n\u001B[1;32m-> 1493\u001B[0m         \u001B[38;5;28;01mreturn\u001B[39;00m func(ax, \u001B[38;5;241m*\u001B[39m\u001B[38;5;28mmap\u001B[39m(sanitize_sequence, args), \u001B[38;5;241m*\u001B[39m\u001B[38;5;241m*\u001B[39mkwargs)\n\u001B[0;32m   1495\u001B[0m     bound \u001B[38;5;241m=\u001B[39m new_sig\u001B[38;5;241m.\u001B[39mbind(ax, \u001B[38;5;241m*\u001B[39margs, \u001B[38;5;241m*\u001B[39m\u001B[38;5;241m*\u001B[39mkwargs)\n\u001B[0;32m   1496\u001B[0m     auto_label \u001B[38;5;241m=\u001B[39m (bound\u001B[38;5;241m.\u001B[39marguments\u001B[38;5;241m.\u001B[39mget(label_namer)\n\u001B[0;32m   1497\u001B[0m                   \u001B[38;5;129;01mor\u001B[39;00m bound\u001B[38;5;241m.\u001B[39mkwargs\u001B[38;5;241m.\u001B[39mget(label_namer))\n",
      "File \u001B[1;32m~\\PycharmProjects\\rl-learning\\worker_env\\lib\\site-packages\\matplotlib\\axes\\_axes.py:5759\u001B[0m, in \u001B[0;36mAxes.imshow\u001B[1;34m(self, X, cmap, norm, aspect, interpolation, alpha, vmin, vmax, origin, extent, interpolation_stage, filternorm, filterrad, resample, url, **kwargs)\u001B[0m\n\u001B[0;32m   5756\u001B[0m \u001B[38;5;28;01mif\u001B[39;00m aspect \u001B[38;5;129;01mis\u001B[39;00m \u001B[38;5;129;01mnot\u001B[39;00m \u001B[38;5;28;01mNone\u001B[39;00m:\n\u001B[0;32m   5757\u001B[0m     \u001B[38;5;28mself\u001B[39m\u001B[38;5;241m.\u001B[39mset_aspect(aspect)\n\u001B[1;32m-> 5759\u001B[0m \u001B[43mim\u001B[49m\u001B[38;5;241;43m.\u001B[39;49m\u001B[43mset_data\u001B[49m\u001B[43m(\u001B[49m\u001B[43mX\u001B[49m\u001B[43m)\u001B[49m\n\u001B[0;32m   5760\u001B[0m im\u001B[38;5;241m.\u001B[39mset_alpha(alpha)\n\u001B[0;32m   5761\u001B[0m \u001B[38;5;28;01mif\u001B[39;00m im\u001B[38;5;241m.\u001B[39mget_clip_path() \u001B[38;5;129;01mis\u001B[39;00m \u001B[38;5;28;01mNone\u001B[39;00m:\n\u001B[0;32m   5762\u001B[0m     \u001B[38;5;66;03m# image does not already have clipping set, clip to axes patch\u001B[39;00m\n",
      "File \u001B[1;32m~\\PycharmProjects\\rl-learning\\worker_env\\lib\\site-packages\\matplotlib\\image.py:723\u001B[0m, in \u001B[0;36m_ImageBase.set_data\u001B[1;34m(self, A)\u001B[0m\n\u001B[0;32m    721\u001B[0m \u001B[38;5;28;01mif\u001B[39;00m \u001B[38;5;28misinstance\u001B[39m(A, PIL\u001B[38;5;241m.\u001B[39mImage\u001B[38;5;241m.\u001B[39mImage):\n\u001B[0;32m    722\u001B[0m     A \u001B[38;5;241m=\u001B[39m pil_to_array(A)  \u001B[38;5;66;03m# Needed e.g. to apply png palette.\u001B[39;00m\n\u001B[1;32m--> 723\u001B[0m \u001B[38;5;28mself\u001B[39m\u001B[38;5;241m.\u001B[39m_A \u001B[38;5;241m=\u001B[39m \u001B[38;5;28;43mself\u001B[39;49m\u001B[38;5;241;43m.\u001B[39;49m\u001B[43m_normalize_image_array\u001B[49m\u001B[43m(\u001B[49m\u001B[43mA\u001B[49m\u001B[43m)\u001B[49m\n\u001B[0;32m    724\u001B[0m \u001B[38;5;28mself\u001B[39m\u001B[38;5;241m.\u001B[39m_imcache \u001B[38;5;241m=\u001B[39m \u001B[38;5;28;01mNone\u001B[39;00m\n\u001B[0;32m    725\u001B[0m \u001B[38;5;28mself\u001B[39m\u001B[38;5;241m.\u001B[39mstale \u001B[38;5;241m=\u001B[39m \u001B[38;5;28;01mTrue\u001B[39;00m\n",
      "File \u001B[1;32m~\\PycharmProjects\\rl-learning\\worker_env\\lib\\site-packages\\matplotlib\\image.py:688\u001B[0m, in \u001B[0;36m_ImageBase._normalize_image_array\u001B[1;34m(A)\u001B[0m\n\u001B[0;32m    686\u001B[0m A \u001B[38;5;241m=\u001B[39m cbook\u001B[38;5;241m.\u001B[39msafe_masked_invalid(A, copy\u001B[38;5;241m=\u001B[39m\u001B[38;5;28;01mTrue\u001B[39;00m)\n\u001B[0;32m    687\u001B[0m \u001B[38;5;28;01mif\u001B[39;00m A\u001B[38;5;241m.\u001B[39mdtype \u001B[38;5;241m!=\u001B[39m np\u001B[38;5;241m.\u001B[39muint8 \u001B[38;5;129;01mand\u001B[39;00m \u001B[38;5;129;01mnot\u001B[39;00m np\u001B[38;5;241m.\u001B[39mcan_cast(A\u001B[38;5;241m.\u001B[39mdtype, \u001B[38;5;28mfloat\u001B[39m, \u001B[38;5;124m\"\u001B[39m\u001B[38;5;124msame_kind\u001B[39m\u001B[38;5;124m\"\u001B[39m):\n\u001B[1;32m--> 688\u001B[0m     \u001B[38;5;28;01mraise\u001B[39;00m \u001B[38;5;167;01mTypeError\u001B[39;00m(\u001B[38;5;124mf\u001B[39m\u001B[38;5;124m\"\u001B[39m\u001B[38;5;124mImage data of dtype \u001B[39m\u001B[38;5;132;01m{\u001B[39;00mA\u001B[38;5;241m.\u001B[39mdtype\u001B[38;5;132;01m}\u001B[39;00m\u001B[38;5;124m cannot be \u001B[39m\u001B[38;5;124m\"\u001B[39m\n\u001B[0;32m    689\u001B[0m                     \u001B[38;5;124mf\u001B[39m\u001B[38;5;124m\"\u001B[39m\u001B[38;5;124mconverted to float\u001B[39m\u001B[38;5;124m\"\u001B[39m)\n\u001B[0;32m    690\u001B[0m \u001B[38;5;28;01mif\u001B[39;00m A\u001B[38;5;241m.\u001B[39mndim \u001B[38;5;241m==\u001B[39m \u001B[38;5;241m3\u001B[39m \u001B[38;5;129;01mand\u001B[39;00m A\u001B[38;5;241m.\u001B[39mshape[\u001B[38;5;241m-\u001B[39m\u001B[38;5;241m1\u001B[39m] \u001B[38;5;241m==\u001B[39m \u001B[38;5;241m1\u001B[39m:\n\u001B[0;32m    691\u001B[0m     A \u001B[38;5;241m=\u001B[39m A\u001B[38;5;241m.\u001B[39msqueeze(\u001B[38;5;241m-\u001B[39m\u001B[38;5;241m1\u001B[39m)  \u001B[38;5;66;03m# If just (M, N, 1), assume scalar and apply colormap.\u001B[39;00m\n",
      "\u001B[1;31mTypeError\u001B[0m: Image data of dtype object cannot be converted to float"
     ]
    },
    {
     "data": {
      "text/plain": [
       "<Figure size 640x480 with 1 Axes>"
      ],
      "image/png": "[encoded data removed]"
     },
     "metadata": {},
     "output_type": "display_data"
    }
   ],
   "execution_count": 17
  },
  {
   "metadata": {},
   "cell_type": "code",
   "source": "",
   "id": "1c437967e49cba8e",
   "outputs": [],
   "execution_count": null
  }
 ],
 "metadata": {
  "kernelspec": {
   "display_name": "Python 3 (ipykernel)",
   "language": "python",
   "name": "python3"
  },
  "language_info": {
   "codemirror_mode": {
    "name": "ipython",
    "version": 3
   },
   "file_extension": ".py",
   "mimetype": "text/x-python",
   "name": "python",
   "nbconvert_exporter": "python",
   "pygments_lexer": "ipython3",
   "version": "3.9.13"
  }
 },
 "nbformat": 4,
 "nbformat_minor": 5
}
