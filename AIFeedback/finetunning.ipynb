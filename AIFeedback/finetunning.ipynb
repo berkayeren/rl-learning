{
 "cells": [
  {
   "metadata": {
    "collapsed": true,
    "ExecuteTime": {
     "end_time": "2024-09-26T16:38:49.914459Z",
     "start_time": "2024-09-26T16:38:49.798679Z"
    }
   },
   "cell_type": "code",
   "source": [
    "import pandas as pd\n",
    "\n",
    "# Load the CSV file\n",
    "csv_path = r'./minigridfinetune.csv'\n",
    "data = pd.read_csv(csv_path)"
   ],
   "id": "initial_id",
   "outputs": [],
   "execution_count": 10
  },
  {
   "metadata": {},
   "cell_type": "code",
   "source": [
    "import os\n",
    "\n",
    "os.environ[\"HF_HOME\"] = \"G:\\\\HuggingFace\"\n",
    "\n",
    "from huggingface_hub import login\n",
    "from transformers import LlamaTokenizer, LlamaForCausalLM\n",
    "import torch\n",
    "\n",
    "hf_token = os.getenv('HF_TOKEN')\n",
    "\n",
    "login(token=hf_token)\n",
    "\n",
    "model_name = 'openlm-research/open_llama_3b'\n",
    "\n",
    "tokenizer = LlamaTokenizer.from_pretrained(model_name)\n",
    "tokenizer.add_special_tokens({'pad_token': '[PAD]'})\n",
    "model = LlamaForCausalLM.from_pretrained(\n",
    "    model_name, torch_dtype=torch.float16, device_map=\"auto\",\n",
    "    offload_folder=r\"G:\\HuggingFace\\offload_folder\"\n",
    ")"
   ],
   "id": "70b0c730de2d9c04",
   "outputs": [],
   "execution_count": null
  },
  {
   "metadata": {},
   "cell_type": "code",
   "source": [
    "# Convert DataFrame into Hugging Face Dataset\n",
    "from datasets import Dataset\n",
    "\n",
    "data['initial_observation'] = data['initial_observation'].astype(str)\n",
    "data['intrinsic_reward'] = data['intrinsic_reward'].astype(str)\n",
    "data['action'] = data['action'].astype(str)\n",
    "data['reward'] = data['reward'].astype(str)\n",
    "\n",
    "# Tokenize the 'initial_observation' and convert the tensors to lists\n",
    "data['initial_observation'] = data['initial_observation'].apply(\n",
    "    lambda x: tokenizer(x, return_tensors='pt', padding='max_length', truncation=True).input_ids.squeeze(0).tolist()\n",
    ")\n",
    "\n",
    "# Tokenize the 'intrinsic_reward' and convert the tensors to lists\n",
    "data['intrinsic_reward'] = data['intrinsic_reward'].apply(\n",
    "    lambda x: tokenizer(x, return_tensors='pt', padding='max_length', truncation=True).input_ids.squeeze(0).tolist()\n",
    ")\n",
    "\n",
    "# Tokenize the 'action' and convert the tensors to lists\n",
    "data['action'] = data['action'].apply(\n",
    "    lambda x: tokenizer(x, return_tensors='pt', padding='max_length', truncation=True).input_ids.squeeze(0).tolist()\n",
    ")\n",
    "\n",
    "# Tokenize the 'reward' and convert the tensors to lists\n",
    "data['reward'] = data['reward'].apply(\n",
    "    lambda x: tokenizer(x, return_tensors='pt', padding='max_length', truncation=True).input_ids.squeeze(0).tolist()\n",
    ")\n",
    "\n",
    "dataset = Dataset.from_pandas(data)\n"
   ],
   "id": "d85f87684d6ac8cd",
   "outputs": [],
   "execution_count": null
  },
  {
   "metadata": {},
   "cell_type": "markdown",
   "source": "",
   "id": "6f5644322aceacc2"
  },
  {
   "metadata": {},
   "cell_type": "code",
   "source": [
    "def create_input_and_label(example):\n",
    "    # Combine fields into input text\n",
    "    input_text = f\"Observation: {example['initial_observation']}\"\n",
    "\n",
    "    # Target text is the action\n",
    "    target_text = f\"Action: {example['action']}\"\n",
    "\n",
    "    input_text += f\" Intrinsic Reward: {example['intrinsic_reward']}, Reward: {example['reward']}.\"\n",
    "\n",
    "    return {\n",
    "        'input_text': input_text,\n",
    "        'target_text': target_text\n",
    "    }\n",
    "\n",
    "\n",
    "dataset = dataset.map(create_input_and_label)\n",
    "\n",
    "\n",
    "def tokenize_function(example):\n",
    "    # Tokenize input_text and target_text\n",
    "    input_encoding = tokenizer(example['input_text'], truncation=True)\n",
    "    target_encoding = tokenizer(example['target_text'], truncation=True)\n",
    "\n",
    "    # Prepare the labels\n",
    "    labels = target_encoding['input_ids']\n",
    "\n",
    "    return {\n",
    "        'input_ids': input_encoding['input_ids'],\n",
    "        'attention_mask': input_encoding['attention_mask'],\n",
    "        'labels': labels\n",
    "    }\n",
    "\n",
    "\n",
    "tokenized_dataset = dataset.map(tokenize_function, batched=True, remove_columns=dataset.column_names)"
   ],
   "id": "9a3d8adf8a7b3395",
   "outputs": [],
   "execution_count": null
  },
  {
   "metadata": {},
   "cell_type": "code",
   "source": [
    "from transformers import AutoModelForCausalLM, TrainingArguments, Trainer, DataCollatorForSeq2Seq\n",
    "\n",
    "training_args = TrainingArguments(\n",
    "    output_dir=r\"G:\\HuggingFace\\fine_tuned_model\",\n",
    "    overwrite_output_dir=True,\n",
    "    num_train_epochs=3,\n",
    "    per_device_train_batch_size=1,\n",
    "    per_device_eval_batch_size=1,\n",
    "    gradient_accumulation_steps=8,\n",
    "    evaluation_strategy=\"steps\",\n",
    "    eval_steps=500,\n",
    "    save_steps=500,\n",
    "    logging_steps=100,\n",
    "    learning_rate=5e-5,\n",
    "    fp16=True,\n",
    "    remove_unused_columns=False,\n",
    ")\n",
    "\n",
    "# Use DataCollatorForSeq2Seq for sequence-to-sequence tasks\n",
    "from transformers import DataCollatorForSeq2Seq\n",
    "\n",
    "data_collator = DataCollatorForSeq2Seq(tokenizer, model=model)\n",
    "\n",
    "trainer = Trainer(\n",
    "    model=model,\n",
    "    args=training_args,\n",
    "    train_dataset=tokenized_dataset['train'],\n",
    "    eval_dataset=tokenized_dataset['validation'],\n",
    "    tokenizer=tokenizer,\n",
    "    data_collator=data_collator,\n",
    ")\n",
    "\n",
    "trainer.train()\n",
    "\n",
    "\n"
   ],
   "id": "64e69d3e1a762d8f",
   "outputs": [],
   "execution_count": null
  },
  {
   "metadata": {},
   "cell_type": "code",
   "source": [
    "import os\n",
    "import torch\n",
    "from datasets import load_dataset\n",
    "from transformers import (\n",
    "    AutoModelForCausalLM,\n",
    "    DataCollatorForLanguageModeling,\n",
    "    TrainingArguments,\n",
    "    Trainer,\n",
    ")\n",
    "from huggingface_hub import login\n",
    "from transformers import LlamaTokenizer, LlamaForCausalLM\n",
    "\n",
    "os.environ[\"HF_HOME\"] = \"G:\\\\HuggingFace\"\n",
    "\n",
    "# Step 1: Load the dataset\n",
    "csv_path = r'/AIFeedback/minigridfinetune.csv'\n",
    "dataset = load_dataset('csv', data_files={'train': csv_path})\n",
    "\n",
    "\n",
    "# Step 2: Create text from data\n",
    "def create_text(example):\n",
    "    text = (\n",
    "        f\"Observation: {example['initial_observation']}. \"\n",
    "        f\"Action: {example['action']}. \"\n",
    "        f\"Intrinsic Reward: {example['intrinsic_reward']}. \"\n",
    "        f\"Reward: {example['reward']}.\"\n",
    "    )\n",
    "    return {'text': text}\n",
    "\n",
    "\n",
    "dataset['train'] = dataset['train'].map(create_text)\n",
    "\n",
    "model_name = 'meta-llama/Llama-3.2-1B'\n",
    "\n",
    "tokenizer = LlamaTokenizer.from_pretrained(model_name)\n",
    "tokenizer.add_special_tokens({'pad_token': '[PAD]'})\n",
    "model = LlamaForCausalLM.from_pretrained(\n",
    "    model_name, torch_dtype=torch.float16, device_map=0,\n",
    "    offload_folder=r\"G:\\HuggingFace\\offload_folder\"\n",
    ")\n",
    "\n",
    "\n",
    "def tokenize_function(examples):\n",
    "    return tokenizer(examples['text'], truncation=True)\n",
    "\n",
    "\n",
    "dataset['train'] = dataset['train'].map(\n",
    "    tokenize_function,\n",
    "    batched=True,\n",
    "    remove_columns=dataset['train'].column_names\n",
    ")\n",
    "\n",
    "\n",
    "# Step 4: Prepare labels\n",
    "def prepare_labels(examples):\n",
    "    examples['labels'] = examples['input_ids'].copy()\n",
    "    return examples\n",
    "\n",
    "\n",
    "dataset['train'] = dataset['train'].map(prepare_labels, batched=True)\n",
    "\n",
    "# Optional Step: Split the dataset\n",
    "train_test_split = dataset['train'].train_test_split(test_size=0.1)\n",
    "dataset['train'] = train_test_split['train']\n",
    "dataset['validation'] = train_test_split['test']\n",
    "\n",
    "# Step 5: Set up training arguments\n",
    "training_args = TrainingArguments(\n",
    "    output_dir=r\"G:\\HuggingFace\\training_args\",\n",
    "    overwrite_output_dir=True,\n",
    "    num_train_epochs=3,\n",
    "    per_device_train_batch_size=1,\n",
    "    gradient_accumulation_steps=8,\n",
    "    evaluation_strategy=\"steps\",  # Change to \"no\" if not using validation\n",
    "    eval_steps=500,\n",
    "    save_steps=500,\n",
    "    logging_steps=100,\n",
    "    learning_rate=5e-5,\n",
    "    fp16=True,\n",
    "    remove_unused_columns=False,\n",
    ")\n",
    "\n",
    "# Step 6: Initialize data collator and trainer\n",
    "data_collator = DataCollatorForLanguageModeling(\n",
    "    tokenizer=tokenizer,\n",
    "    mlm=False,\n",
    ")\n",
    "\n",
    "trainer = Trainer(\n",
    "    model=model,\n",
    "    args=training_args,\n",
    "    train_dataset=dataset['train'],\n",
    "    eval_dataset=dataset.get('validation'),  # Use validation set if available\n",
    "    tokenizer=tokenizer,\n",
    "    data_collator=data_collator,\n",
    ")\n",
    "\n",
    "# Step 7: Fine-tune the model\n",
    "trainer.train()\n",
    "\n",
    "# Step 8: Save the fine-tuned model\n",
    "trainer.save_model(r\"G:\\HuggingFace\\fine_tuned_model\")\n"
   ],
   "id": "5664e1bb6e702515",
   "outputs": [],
   "execution_count": null
  },
  {
   "metadata": {
    "ExecuteTime": {
     "end_time": "2024-09-26T16:38:49.790678Z",
     "start_time": "2024-09-26T16:32:32.907737Z"
    }
   },
   "cell_type": "code",
   "source": [
    "# Load model directly\n",
    "from transformers import AutoTokenizer, AutoModelForCausalLM\n",
    "\n",
    "tokenizer = AutoTokenizer.from_pretrained(\"meta-llama/Llama-3.2-1B\")\n",
    "model = AutoModelForCausalLM.from_pretrained(\"meta-llama/Llama-3.2-1B\")"
   ],
   "id": "c6cf490ad7d09d8c",
   "outputs": [
    {
     "name": "stdout",
     "output_type": "stream",
     "text": [
      "The token has not been saved to the git credentials helper. Pass `add_to_git_credential=True` in this function directly or `--add-to-git-credential` if using via `huggingface-cli` if you want to set the git credential as well.\n",
      "Token is valid (permission: write).\n",
      "Your token has been saved to G:\\\\HuggingFace\\token\n",
      "Login successful\n"
     ]
    },
    {
     "data": {
      "text/plain": [
       "tokenizer_config.json:   0%|          | 0.00/50.5k [00:00<?, ?B/s]"
      ],
      "application/vnd.jupyter.widget-view+json": {
       "version_major": 2,
       "version_minor": 0,
       "model_id": "fb79b4de4f904398addf1c7ea41c977e"
      }
     },
     "metadata": {},
     "output_type": "display_data"
    },
    {
     "name": "stderr",
     "output_type": "stream",
     "text": [
      "C:\\Users\\berka\\PycharmProjects\\rl-learning\\venv39\\lib\\site-packages\\huggingface_hub\\file_download.py:147: UserWarning: `huggingface_hub` cache-system uses symlinks by default to efficiently store duplicated files but your machine does not support them in G:\\HuggingFace\\hub\\models--meta-llama--Llama-3.2-1B. Caching files will still work but in a degraded version that might require more space on your disk. This warning can be disabled by setting the `HF_HUB_DISABLE_SYMLINKS_WARNING` environment variable. For more details, see https://huggingface.co/docs/huggingface_hub/how-to-cache#limitations.\n",
      "To support symlinks on Windows, you either need to activate Developer Mode or to run Python as an administrator. In order to activate developer mode, see this article: https://docs.microsoft.com/en-us/windows/apps/get-started/enable-your-device-for-development\n",
      "  warnings.warn(message)\n"
     ]
    },
    {
     "data": {
      "text/plain": [
       "tokenizer.json:   0%|          | 0.00/9.09M [00:00<?, ?B/s]"
      ],
      "application/vnd.jupyter.widget-view+json": {
       "version_major": 2,
       "version_minor": 0,
       "model_id": "de65268d258a40d6aa562c031f82ce10"
      }
     },
     "metadata": {},
     "output_type": "display_data"
    },
    {
     "data": {
      "text/plain": [
       "special_tokens_map.json:   0%|          | 0.00/301 [00:00<?, ?B/s]"
      ],
      "application/vnd.jupyter.widget-view+json": {
       "version_major": 2,
       "version_minor": 0,
       "model_id": "cf9e6b90a09748c99448143da2f21e2b"
      }
     },
     "metadata": {},
     "output_type": "display_data"
    },
    {
     "data": {
      "text/plain": [
       "config.json:   0%|          | 0.00/843 [00:00<?, ?B/s]"
      ],
      "application/vnd.jupyter.widget-view+json": {
       "version_major": 2,
       "version_minor": 0,
       "model_id": "a8183dc2e8a64277932b0e6ac5091bdf"
      }
     },
     "metadata": {},
     "output_type": "display_data"
    },
    {
     "data": {
      "text/plain": [
       "model.safetensors:   0%|          | 0.00/2.47G [00:00<?, ?B/s]"
      ],
      "application/vnd.jupyter.widget-view+json": {
       "version_major": 2,
       "version_minor": 0,
       "model_id": "9185e980eed440f98c5a8d2425585d95"
      }
     },
     "metadata": {},
     "output_type": "display_data"
    },
    {
     "data": {
      "text/plain": [
       "generation_config.json:   0%|          | 0.00/186 [00:00<?, ?B/s]"
      ],
      "application/vnd.jupyter.widget-view+json": {
       "version_major": 2,
       "version_minor": 0,
       "model_id": "f9bf8a03b88f41a0a56a67f7537cef39"
      }
     },
     "metadata": {},
     "output_type": "display_data"
    }
   ],
   "execution_count": 9
  }
 ],
 "metadata": {
  "kernelspec": {
   "display_name": "Python 3",
   "language": "python",
   "name": "python3"
  },
  "language_info": {
   "codemirror_mode": {
    "name": "ipython",
    "version": 2
   },
   "file_extension": ".py",
   "mimetype": "text/x-python",
   "name": "python",
   "nbconvert_exporter": "python",
   "pygments_lexer": "ipython2",
   "version": "2.7.6"
  }
 },
 "nbformat": 4,
 "nbformat_minor": 5
}
