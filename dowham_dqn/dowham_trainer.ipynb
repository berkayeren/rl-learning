{
 "cells": [
  {
   "cell_type": "code",
   "execution_count": null,
   "id": "initial_id",
   "metadata": {
    "collapsed": true
   },
   "outputs": [],
   "source": [
    "import ray\n",
    "\n",
    "ray.init(ignore_reinit_error=True)"
   ]
  },
  {
   "metadata": {},
   "cell_type": "code",
   "outputs": [],
   "execution_count": null,
   "source": [
    "from minigrid.wrappers import ImgObsWrapper\n",
    "from dowham_dqn.custom_playground_env import CustomPlaygroundEnv\n",
    "from ray.tune import register_env\n",
    "\n",
    "# Register the custom environment\n",
    "register_env(\"MiniGrid-CustomPlayground-v0\", lambda config: ImgObsWrapper(CustomPlaygroundEnv()))\n"
   ],
   "id": "972cb8a5d4ee4226"
  },
  {
   "metadata": {},
   "cell_type": "code",
   "outputs": [],
   "execution_count": null,
   "source": [
    "from dowham_dqn.custom_dqn_model import MinigridPolicyNet\n",
    "from ray.rllib.algorithms import DQN\n",
    "from ray.rllib.algorithms.dqn import DQNConfig\n",
    "from ray.rllib.models import ModelCatalog\n",
    "\n",
    "config = (\n",
    "    DQNConfig()\n",
    "    .environment(env=\"MiniGrid-CustomPlayground-v0\")\n",
    "    .rollouts(num_rollout_workers=2, num_envs_per_worker=4)  # Adjust the number of workers as needed\n",
    "    .exploration(\n",
    "        explore=True,\n",
    "        exploration_config={\n",
    "            \"type\": \"EpsilonGreedy\",\n",
    "            \"initial_epsilon\": 1.0,\n",
    "            \"final_epsilon\": 0.1,\n",
    "            \"epsilon_timesteps\": 10000,\n",
    "        }\n",
    "    )\n",
    "    .training(\n",
    "        lr=1e-5,  # Learning rate\n",
    "        optimizer={\n",
    "            \"type\": \"RMSProp\",\n",
    "            \"lr\": 1e-5,\n",
    "            \"weight_decay\": 0,\n",
    "            \"momentum\": 0,\n",
    "            \"centered\": False\n",
    "        },\n",
    "        model={\n",
    "            \"custom_model\": \"MinigridPolicyNet\",\n",
    "        },\n",
    "        gamma=0.99,  # Discount factor\n",
    "        train_batch_size=32,  # Batch size\n",
    "        num_atoms=1,\n",
    "        v_min=-10.0,\n",
    "        v_max=10.0,\n",
    "        noisy=False,\n",
    "        dueling=True,  # Use dueling architecture\n",
    "        double_q=True,  # Use double Q-learning\n",
    "        n_step=3,  # N-step Q-learning\n",
    "        target_network_update_freq=500,\n",
    "    )\n",
    "    .resources(\n",
    "        num_gpus=0,\n",
    "        num_cpus_per_worker=1\n",
    "    )\n",
    "    .framework(\"torch\").fault_tolerance(recreate_failed_workers=True, restart_failed_sub_environments=True)\n",
    "    # .evaluation(\n",
    "    #                 evaluation_parallel_to_training=False,\n",
    "    #                 evaluation_sample_timeout_s=320,\n",
    "    #                 evaluation_interval=10,\n",
    "    #                 evaluation_duration=4,\n",
    "    #                 evaluation_num_workers=0\n",
    "    #             )\n",
    ")\n",
    "\n",
    "# Register the custom model\n",
    "ModelCatalog.register_custom_model(\"MinigridPolicyNet\", MinigridPolicyNet)\n",
    "\n",
    "# Instantiate the DQN trainer\n",
    "dqn_trainer = DQN(config=config)"
   ],
   "id": "5cc1827302601bed"
  },
  {
   "metadata": {},
   "cell_type": "code",
   "outputs": [],
   "execution_count": null,
   "source": [
    "import os\n",
    "\n",
    "# Get the current working directory\n",
    "current_dir = os.getcwd()\n",
    "\n",
    "# Define the path to the checkpoint directory\n",
    "checkpoint_dir = os.path.join(current_dir, \"checkpoint\")\n",
    "\n",
    "for i in range(1000):  # Number of training iterations\n",
    "    print(f\"Iteration {i}\")\n",
    "    result = dqn_trainer.train()\n",
    "    print(f\"Iteration {i} - Reward: {result['episode_reward_mean']}\")\n",
    "\n",
    "    # Save the trained model\n",
    "    checkpoint = dqn_trainer.save(checkpoint_dir)\n",
    "\n",
    "# Shutdown Ray\n",
    "ray.shutdown()"
   ],
   "id": "13c92849a9178956"
  }
 ],
 "metadata": {
  "kernelspec": {
   "display_name": "Python 3",
   "language": "python",
   "name": "python3"
  },
  "language_info": {
   "codemirror_mode": {
    "name": "ipython",
    "version": 2
   },
   "file_extension": ".py",
   "mimetype": "text/x-python",
   "name": "python",
   "nbconvert_exporter": "python",
   "pygments_lexer": "ipython2",
   "version": "2.7.6"
  }
 },
 "nbformat": 4,
 "nbformat_minor": 5
}
